{
 "cells": [
  {
   "cell_type": "code",
   "execution_count": null,
   "metadata": {},
   "outputs": [],
   "source": [
    "import requests\n",
    "from bs4 import BeautifulSoup\n",
    "import pandas as pd\n",
    "import numpy as np\n",
    "import time\n",
    "import re\n",
    "import camelot\n",
    "import tabula\n",
    "import warnings\n",
    "import codecs\n",
    "import math\n",
    "\n",
    "warnings.simplefilter('ignore', UserWarning)\n",
    "pd.set_option('display.max_rows', 100)\n",
    "codecs.register_error('none', lambda e: ('', e.end))"
   ]
  },
  {
   "cell_type": "markdown",
   "metadata": {},
   "source": [
    "\n",
    "# 銘柄抽出の流れ\n",
    "\n",
    "PDFの表抽出ライブラリーは、camelotとtabulaの2種類がある。それぞれ抽出できない銘柄がいくつか存在する。<br>\n",
    "camelotの方が抽出できる銘柄が多いので、camelotで抽出後、残りをtabulaで抽出する。<br>\n",
    "手順1：camelotで抽出（取込エラーが出た銘柄は全て③tabulaでの抽出にまわす）<br>\n",
    "　　　→取込が出来た銘柄一覧の表を作成<br>\n",
    "　　　→余分な文字が多数含まれているので、値の加工を行う<br>\n",
    "　　　→取込エラーが出ずにPDFの読み込みには成功したものの、十分なデータが抽出できなかった銘柄に対して、<br>\n",
    "　　　　<b>削除銘柄</b>(十分にデータが抽出できていない銘柄)と<br>\n",
    "　　　　<b>再抽出銘柄</b>(取込時のコードを変えればうまく抽出できそうな銘柄)の選別<br>\n",
    "　　　→削除銘柄と再抽出銘柄を表から削除する（再抽出銘柄は②で再抽出する）<br>\n",
    "手順2：camelotで再抽出銘柄のデータを再抽出<br>\n",
    "　　　→取込が出来た銘柄一覧の表を作成<br>\n",
    "　　　→余分な文字が多数含まれているので、値の加工を行う<br>\n",
    "　　　→十分にデータが抽出できていない銘柄を表から削除する<br>\n",
    "手順3：tabulaで抽出<br>\n",
    "　　　→取込が出来た銘柄一覧の表を作成<br>\n",
    "　　　→余分な文字が多数含まれているので、値の加工を行う<br>\n",
    "　　　→十分にデータが抽出できていない銘柄を表から削除する<br>\n",
    "手順4：以上で抽出した手順1、手順2、手順3のデータを結合して完成"
   ]
  },
  {
   "cell_type": "code",
   "execution_count": null,
   "metadata": {},
   "outputs": [],
   "source": [
    "#手順1：camelotで抽出\n",
    "def get_pdf_camelot(start_url, code):\n",
    "    #time.sleep(1)\n",
    "    response = requests.get(start_url)\n",
    "    soup = BeautifulSoup(response.content, 'html.parser')\n",
    "    if 'リクエストされたページがみつかりませんでした' in soup.text:\n",
    "        print('東証以外の銘柄のため、PDF見つからず')\n",
    "        pass\n",
    "    else:\n",
    "        table = soup.find('table', attrs={'class': 'Quote'})\n",
    "        try:\n",
    "            #訂正があった場合でも、訂正前のPDFを取得する\n",
    "            for i in range(0, 5):\n",
    "                print(i)\n",
    "                if '訂正' in table.find_all('td', text = re.compile('.*決算短信.*'))[i].text\\\n",
    "                or '補足' in table.find_all('td', text = re.compile('.*決算短信.*'))[i].text:\n",
    "                    pass\n",
    "                else:\n",
    "                    target_pdf = table.find_all('td', text = re.compile('.*決算短信.*'))[i].find('a').get('href')\n",
    "                    break\n",
    "        #最近上場した企業は、決算短信がまだ存在しない\n",
    "        except Exception as e:\n",
    "                print('決算短信が存在しない')\n",
    "                print(e)\n",
    "                print('\\n')\n",
    "                return \n",
    "        try:\n",
    "            tables = camelot.read_pdf(target_pdf, flavor='stream', pages = '4-end', table_areas=['0,800,700,0'])\n",
    "            get_features_camelot(tables, code)\n",
    "\n",
    "        except Exception as e:\n",
    "            tabula_dict[code] = e\n",
    "            print('取込エラー')\n",
    "            print(e)\n",
    "            print('\\n')\n",
    "            pass\n",
    "\n",
    "def get_features_camelot(tables, code):\n",
    "    feature_list = ['流動資産合計', '現金及び預金', '現金預金', '有形固定資産', '有形固定資産合計', '投資有価証券', \n",
    "                '投資その他の資産合計', '流動負債合計', '固定負債合計']\n",
    "    df_elements = []\n",
    "    feature_remove_list = []\n",
    "    count_tables = 0\n",
    "    for table in tables:\n",
    "        df_tbl = table.df\n",
    "        for feature in feature_list:\n",
    "            if len(df_tbl[df_tbl.iloc[:,0] == feature]) == 1:\n",
    "                #資産と負債が違うテーブルのため、df_element1の列がずれる場合がある\n",
    "                #特徴量と値だけの1行2列のデータフレームを作成\n",
    "                df_element1 = df_tbl[df_tbl.iloc[:,0] == feature].iloc[:, [0,-1]]\n",
    "                #後のconcatで列がずれないようにするため、値の列の名前が違うため1に統一する\n",
    "                df_element2 = df_element1.rename(columns={df_element1.columns[1]: 1})\n",
    "                df_elements.append(df_element2)\n",
    "                #資産と負債のテーブルが2つある銘柄がある（連結と単独のテーブル）\n",
    "                #同じ特徴量を2回取得することを避けるため、一度入れた特徴量は削除リストに登録\n",
    "                feature_remove_list.append(feature)\n",
    "        #テーブル処理が1つ終わったら、削除リストに登録された特徴量を元のリストから削除する\n",
    "        if len(feature_remove_list) != 0:\n",
    "            for feature_remove in feature_remove_list:\n",
    "                feature_list.remove(feature_remove)\n",
    "            feature_remove_list = []\n",
    "\n",
    "    df_all1 = pd.concat(df_elements).T\n",
    "    df_all2 = pd.DataFrame([list(df_all1.iloc[1,:])], columns=df_all1.iloc[0,:],)  \n",
    "    df_all2['code'] = code\n",
    "    dfs_concat_camelot(df_all2)\n",
    "    \n",
    "    \n",
    "def dfs_concat_camelot(df_all2):\n",
    "    global df_camelot1\n",
    "    df_camelot1 = pd.concat([df_camelot1, df_all2], axis=0)"
   ]
  },
  {
   "cell_type": "code",
   "execution_count": null,
   "metadata": {},
   "outputs": [],
   "source": [
    "#手順1：camelotで取り込む銘柄コードと、空データフレームの作成\n",
    "codes = pd.read_csv('全銘柄データWeb（完成）.csv', encoding=(\"cp932\"), header=0).iloc[:, 0]\n",
    "df_camelot1 = pd.DataFrame()\n",
    "tabula_dict = {}"
   ]
  },
  {
   "cell_type": "code",
   "execution_count": null,
   "metadata": {
    "scrolled": true
   },
   "outputs": [],
   "source": [
    "#手順1：camelotでPDFから特徴量をDataFrameへ記入　※7時間くらいかかる\n",
    "'''\n",
    "・取込エラー\n",
    "    Invalid dictionary construct: [/'Type', ...　→　camelotではデータ抽出できないのが、tabulaで抽出できる可能性が高い\n",
    "    only algorithm code 1 and 2 are supported　→　データ抽出できないPDFである可能性が非常に高い\n",
    "    No objects to concatenate　→　データ抽出できないPDFである可能性が高い\n",
    "・決算短信が存在しない\n",
    "    'NoneType' object has no attribute 'find'　→　上場したてで、決算短信のPDFがまだ存在しない\n",
    "・東証以外の銘柄のため、PDF見つからず\n",
    "    東証(東証1部・東証2部・JSQ・マザーズ)以外はPDFが取得できない\n",
    "'''\n",
    "\n",
    "for i in range(0, len(codes)):\n",
    "    code = codes[i]\n",
    "    start_url = 'http://ke.kabupro.jp/code/{}.htm'.format(code)\n",
    "    print(start_url, 'i=', i)\n",
    "    get_pdf_camelot(start_url, code)"
   ]
  },
  {
   "cell_type": "code",
   "execution_count": null,
   "metadata": {},
   "outputs": [],
   "source": [
    "#手順1：tabulaで取り込む銘柄コードの表をcsvへ書込み\n",
    "#かなり後で使用する\n",
    "df_for_tabula = pd.DataFrame()\n",
    "df_for_tabula['code'] = tabula_dict.keys()\n",
    "df_for_tabula['error'] = tabula_dict.values()\n",
    "\n",
    "df_for_tabula.to_csv('temp_file/全銘柄PDFデータ（手順1_tabula用銘柄コード）.csv', mode='w', index=False, encoding=\"shift-jis\", errors='none')\n",
    "\n",
    "df_for_tabula"
   ]
  },
  {
   "cell_type": "code",
   "execution_count": null,
   "metadata": {
    "scrolled": false
   },
   "outputs": [],
   "source": [
    "#手順1：camelotで取得した表の確認\n",
    "df_camelot1 = df_camelot.reindex(columns=['code', '流動資産合計', '現金及び預金', '現金預金', '有形固定資産', '有形固定資産合計', \n",
    "                         '投資有価証券', '投資その他の資産合計', '流動負債合計', '固定負債合計', ])\n",
    "df_camelot1"
   ]
  },
  {
   "cell_type": "code",
   "execution_count": null,
   "metadata": {},
   "outputs": [],
   "source": [
    "#手順1：camelotで取得した表をcsvへ書込み\n",
    "df_camelot1.to_csv('temp_file/全銘柄PDFデータ（手順1_camelot加工前）.csv', mode='w', index=False, encoding=\"shift-jis\", errors='none')"
   ]
  },
  {
   "cell_type": "code",
   "execution_count": null,
   "metadata": {
    "scrolled": false
   },
   "outputs": [],
   "source": [
    "#手順1：camelotで取得した表をcsvから読み込み、余分な文字を消す\n",
    "df_camelot2 = pd.read_csv('temp_file/全銘柄PDFデータ（手順1_camelot加工前）.csv', encoding=(\"cp932\"), header=0)\n",
    "\n",
    "replace_feature_list = list(df_camelot2.select_dtypes(include=object).columns.values)\n",
    "replace_list = [',', '△', '―', '-', '，', '\\n', ' ',\n",
    "                '※1', '※2', '※3', '※4', '※5', '※6', '※7', '※8', '※9',\n",
    "                '※１', '※２', '※３', '※４', '※５', '※６', '※７', '※８', '※９']\n",
    "for i in replace_feature_list:\n",
    "    for j in replace_list:\n",
    "        df_camelot2[i] = df_camelot2[i].str.replace(j, '')\n",
    "df_camelot2"
   ]
  },
  {
   "cell_type": "code",
   "execution_count": null,
   "metadata": {
    "scrolled": true
   },
   "outputs": [],
   "source": [
    "#手順1：十分に取り込めていない銘柄コードについて、\n",
    "#①再抽出する銘柄コードの抽出と、②削除する銘柄コードの抽出\n",
    "camelot_re_dict = {}\n",
    "camelot_drop_list = []\n",
    "for i in range(0, len(df_camelot2)):\n",
    "    #①再抽出する銘柄コードの抽出\n",
    "    if len(df_camelot2.iloc[i, :].value_counts()) == 1:\n",
    "        camelot_re_dict[df_camelot2.iloc[i, 0]] = 're1'\n",
    "        print('code=', df_camelot2.iloc[i, 0], '再抽出：資料が左に細くて1つも取り込めない')\n",
    "    elif df_camelot2.iloc[i, 9] == '非流動負債合計':\n",
    "        camelot_re_dict[df_camelot2.iloc[i, 0]] = 're2'\n",
    "        print('code=', df_camelot2.iloc[i, 0], '再抽出：固定負債合計の値が非流動負債合計')\n",
    "        \n",
    "for i in range(0, len(df_camelot2)):    \n",
    "    #②削除する銘柄コードの抽出\n",
    "    if len(df_camelot2.iloc[i, :].value_counts()) <= 3:\n",
    "        camelot_drop_list.append(df_camelot2.iloc[i, 0])\n",
    "        print('code=', df_camelot2.iloc[i, 0], '削除：特徴量が2つ以下')\n",
    "    elif df_camelot2.iloc[i, :].str.contains('%').sum() !=0:\n",
    "        camelot_drop_list.append(df_camelot2.iloc[i, 0])\n",
    "        print('code=', df_camelot2.iloc[i, 0], '削除：%を含む')\n",
    "    elif df_camelot2.iloc[i, 9] == '非流動負債合計':\n",
    "        camelot_drop_list.append(df_camelot2.iloc[i, 0])\n",
    "        print('code=', df_camelot2.iloc[i, 0], '削除：固定負債合計の値が非流動負債合計')"
   ]
  },
  {
   "cell_type": "code",
   "execution_count": null,
   "metadata": {},
   "outputs": [],
   "source": [
    "#手順1：削除する銘柄コードの削除\n",
    "for i in camelot_drop_list:\n",
    "    df_camelot2.drop(df_camelot2.index[df_camelot2['code'] == i], inplace=True)\n",
    "df_camelot2"
   ]
  },
  {
   "cell_type": "code",
   "execution_count": null,
   "metadata": {},
   "outputs": [],
   "source": [
    "#手順1：camelotで取得した表（加工・削除後）をcsvへ書込み\n",
    "df_camelot2.to_csv('temp_file/全銘柄PDFデータ（手順1_camelot完成）.csv', mode='w', index=False, encoding=\"shift-jis\", errors='none')"
   ]
  },
  {
   "cell_type": "code",
   "execution_count": null,
   "metadata": {},
   "outputs": [],
   "source": [
    "#手順2：camelotで再抽出する銘柄コードと、空データフレームの作成\n",
    "codes_camelot_re = list(camelot_re_dict.keys())\n",
    "df_camelot_re1 = pd.DataFrame()"
   ]
  },
  {
   "cell_type": "code",
   "execution_count": null,
   "metadata": {},
   "outputs": [],
   "source": [
    "#手順2：camelotで再抽出\n",
    "def get_pdf_camelot_re(start_url, code, frag):\n",
    "    time.sleep(1)\n",
    "    response = requests.get(start_url)\n",
    "    soup = BeautifulSoup(response.content, 'html.parser')\n",
    "\n",
    "    table = soup.find('table', attrs={'class': 'Quote'})\n",
    "    #訂正があった場合でも、訂正前のPDFを取得する\n",
    "    for i in range(0, 5):\n",
    "        if '訂正' in table.find_all('td', text = re.compile('.*決算短信.*'))[i].text\\\n",
    "        or '補足' in table.find_all('td', text = re.compile('.*決算短信.*'))[i].text:\n",
    "            pass\n",
    "        else:\n",
    "            target_pdf = table.find_all('td', text = re.compile('.*決算短信.*'))[i].find('a').get('href')\n",
    "            break\n",
    "                \n",
    "    try:\n",
    "        tables = camelot.read_pdf(target_pdf, flavor='stream', pages = '4-end', table_areas=['0,800,700,0'])\n",
    "        if frag == 're1':\n",
    "            get_features_camelot_re1(tables, code)\n",
    "        else:\n",
    "            get_features_camelot_re2(tables, code)\n",
    "    except Exception as e:\n",
    "        print('取込エラー')\n",
    "        print(e)\n",
    "        print('\\n')\n",
    "        pass\n",
    "\n",
    "#手順2：対応①　camelot「固定負債合計の値が非流動負債合計」PDFデータの取込み\n",
    "def get_features_camelot_re1(tables, code):\n",
    "    feature_list = ['流動資産合計', '現金及び預金', '現金預金', '有形固定資産', '有形固定資産合計', '投資有価証券',\n",
    "                    '投資その他の資産合計', '流動負債合計', '固定負債合計']\n",
    "    feature_remove_list = []\n",
    "    df_elements = []\n",
    "    for table in tables:\n",
    "        df_tbl = table.df  \n",
    "        for feature in feature_list:\n",
    "            if len(df_tbl[df_tbl.iloc[:,0] == feature]) == 1:\n",
    "                #資産と負債が違うテーブルのため、df_element1の列がずれる場合がある\n",
    "                #特徴量と値だけの1行2列のデータフレームを作成\n",
    "                df_element1 = df_tbl[df_tbl.iloc[:,0] == feature].iloc[:, [0,-1]]\n",
    "                #【左から2列目に値が入っているPDFのため、その対応をする】\n",
    "                if df_element1.iloc[0, 1] == '':\n",
    "                    df_element1 = df_tbl[df_tbl.iloc[:,0] == feature].iloc[:, [0,-2]]\n",
    "                #後のconcatで列がずれないようにするため、値の列の名前を1に統一する\n",
    "                df_element2 = df_element1.rename(columns={df_element1.columns[1]: 1})\n",
    "                df_elements.append(df_element2)\n",
    "                #資産と負債のテーブルが2つある銘柄がある（連結と単独のテーブル）\n",
    "                #同じ特徴量を2回取得することを避けるため、一度入れた特徴量は削除リストに登録\n",
    "                feature_remove_list.append(feature)\n",
    "        #テーブル処理が1つ終わったら、削除リストに登録された特徴量を元のリストから削除する\n",
    "        if len(feature_remove_list) != 0:\n",
    "            for feature_remove in feature_remove_list:\n",
    "                feature_list.remove(feature_remove)\n",
    "            feature_remove_list = []\n",
    "    df_all1 = pd.concat(df_elements).T\n",
    "    df_all2 = pd.DataFrame([list(df_all1.iloc[1,:])], columns=df_all1.iloc[0,:],)  \n",
    "    df_all2['code'] = code\n",
    "    dfs_concat_camelot_re(df_all2)\n",
    "\n",
    "    \n",
    "#手順2：対応②　camelot「固定負債合計の値が非流動負債合計」PDFデータの再抽出\n",
    "def get_features_camelot_re2(tables, code):\n",
    "#【現金及び預金→現金及び現金同等物、固定負債合計→非流動負債合計に変更】\n",
    "    feature_list = ['流動資産合計', '現金及び現金同等物', '現金預金', '有形固定資産', '有形固定資産合計', '投資有価証券',\n",
    "                    '投資その他の資産合計', '流動負債合計', '非流動負債合計']\n",
    "    feature_remove_list = []\n",
    "    df_elements = []\n",
    "    for table in tables:\n",
    "        df_tbl = table.df  \n",
    "        for feature in feature_list:\n",
    "            if len(df_tbl[df_tbl.iloc[:,0] == feature]) == 1:\n",
    "                #資産と負債が違うテーブルのため、df_element1の列がずれる場合がある\n",
    "                #特徴量と値だけの1行2列のデータフレームを作成\n",
    "                df_element1 = df_tbl[df_tbl.iloc[:,0] == feature].iloc[:, [0,-1]]\n",
    "                #【左から2列目に値が入っているPDFのため、その対応をする】\n",
    "                if df_element1.iloc[0, 1] == '':\n",
    "                    df_element1 = df_tbl[df_tbl.iloc[:,0] == feature].iloc[:, [0,-2]]\n",
    "                #後のconcatで列がずれないようにするため、値の列の名前を1に統一する\n",
    "                df_element2 = df_element1.rename(columns={df_element1.columns[1]: 1})\n",
    "                df_elements.append(df_element2)\n",
    "                #資産と負債のテーブルが2つある銘柄がある（連結と単独のテーブル）\n",
    "                #同じ特徴量を2回取得することを避けるため、一度入れた特徴量は削除リストに登録\n",
    "                feature_remove_list.append(feature)\n",
    "        #テーブル処理が1つ終わったら、削除リストに登録された特徴量を元のリストから削除する\n",
    "        if len(feature_remove_list) != 0:\n",
    "            for feature_remove in feature_remove_list:\n",
    "                feature_list.remove(feature_remove)\n",
    "            feature_remove_list = []\n",
    "    df_all1 = pd.concat(df_elements).T\n",
    "    df_all2 = pd.DataFrame([list(df_all1.iloc[1,:])], columns=df_all1.iloc[0,:],)\\\n",
    "    .rename(columns={'現金及び現金同等物': '現金及び預金'}).rename(columns={'非流動負債合計': '固定負債合計'}) \n",
    "    df_all2['code'] = code\n",
    "    dfs_concat_camelot_re(df_all2)\n",
    "    \n",
    "    \n",
    "def dfs_concat_camelot_re(df_all2):\n",
    "    global df_camelot_re1\n",
    "    df_camelot_re1 = pd.concat([df_camelot_re1, df_all2], axis=0)"
   ]
  },
  {
   "cell_type": "code",
   "execution_count": null,
   "metadata": {
    "scrolled": true
   },
   "outputs": [],
   "source": [
    "#手順2：camelotで再抽出をPDFから特徴量をDataFrameへ記入　\n",
    "for i in range(0, len(codes_camelot_re)):\n",
    "    code = codes_camelot_re[i]\n",
    "    frag = camelot_re_dict[code]\n",
    "    start_url = 'http://ke.kabupro.jp/code/{}.htm'.format(code)\n",
    "    print(start_url, 'i=', i)\n",
    "    get_pdf_camelot_re(start_url, code, frag)"
   ]
  },
  {
   "cell_type": "code",
   "execution_count": null,
   "metadata": {
    "scrolled": true
   },
   "outputs": [],
   "source": [
    "#手順2：camelotで再取得した表の確認\n",
    "df_camelot_re1 = df_camelot_re1.reindex(columns=['code', '流動資産合計', '現金及び預金', '現金預金', '有形固定資産', '有形固定資産合計', \n",
    "                         '投資有価証券', '投資その他の資産合計', '流動負債合計', '固定負債合計', ])\n",
    "df_camelot_re1"
   ]
  },
  {
   "cell_type": "code",
   "execution_count": null,
   "metadata": {},
   "outputs": [],
   "source": [
    "#手順2：camelotで再取得した表をcsvへ書込み\n",
    "df_camelot_re1.to_csv('temp_file/全銘柄PDFデータ（手順2_camelot_re加工前）.csv', mode='w', \n",
    "                      index=False, encoding=\"shift-jis\", errors='none')"
   ]
  },
  {
   "cell_type": "code",
   "execution_count": null,
   "metadata": {
    "scrolled": true
   },
   "outputs": [],
   "source": [
    "#手順2：camelotで再取得した表の余分な文字を消す\n",
    "df_camelot_re2 = pd.read_csv('temp_file/全銘柄PDFデータ（手順2_camelot_re加工前）.csv', encoding=(\"cp932\"), header=0)\n",
    "replace_feature_list = list(df_camelot_re2.select_dtypes(include=object).columns.values)\n",
    "replace_list = [',', '△', '―', '-', '，', '\\n', ' ',\n",
    "                '※1', '※2', '※3', '※4', '※5', '※6', '※7', '※8', '※9',\n",
    "                '※１', '※２', '※３', '※４', '※５', '※６', '※７', '※８', '※９', '\\D']\n",
    "\n",
    "for i in replace_feature_list:\n",
    "    for j in replace_list:\n",
    "        df_camelot_re2[i] = df_camelot_re2[i].str.replace(j, '')\n",
    "df_camelot_re2\n"
   ]
  },
  {
   "cell_type": "code",
   "execution_count": null,
   "metadata": {
    "scrolled": true
   },
   "outputs": [],
   "source": [
    "#手順2：camelotで再取得した銘柄のうち、十分に取り込めていない銘柄コードの抽出と削除\n",
    "camelot_re_drop_list = []\n",
    "\n",
    "#削除する銘柄コードの抽出        \n",
    "for i in range(0, len(df_camelot_re2)):    \n",
    "    #②削除する銘柄コードの抽出\n",
    "    if len(df_camelot_re2.iloc[i, :].value_counts()) <= 3:\n",
    "        camelot_re_drop_list.append(df_camelot_re2.iloc[i, 0])\n",
    "        print('code=', df_camelot_re2.iloc[i, 0], '削除：特徴量が2つ以下')\n",
    "        \n",
    "#削除する銘柄コードの削除\n",
    "for i in camelot_re_drop_list:\n",
    "    df_camelot_re2.drop(df_camelot_re2.index[df_camelot_re2['code'] == i], inplace=True)\n",
    "df_camelot_re2"
   ]
  },
  {
   "cell_type": "code",
   "execution_count": null,
   "metadata": {},
   "outputs": [],
   "source": [
    "#手順2：camelotで再取得した表（加工・削除後）をcsvへ書込み\n",
    "df_camelot_re2.to_csv('temp_file/全銘柄PDFデータ（手順2_camelot_re完成）.csv', mode='w',\n",
    "                      index=False, encoding=\"shift-jis\", errors='none')"
   ]
  },
  {
   "cell_type": "code",
   "execution_count": null,
   "metadata": {},
   "outputs": [],
   "source": [
    "#手順3：tabulaの利用\n",
    "def get_pdf_tabula(start_url_tabula, code_tabula):\n",
    "    response = requests.get(start_url_tabula)\n",
    "    soup = BeautifulSoup(response.content, 'html.parser')\n",
    "    if 'リクエストされたページがみつかりませんでした' in soup.text:\n",
    "        print('東証以外の銘柄のため、PDF見つからず')\n",
    "        pass\n",
    "    else:\n",
    "        table = soup.find('table', attrs={'class': 'Quote'})  \n",
    "        #訂正があった場合でも、訂正前のPDFを取得する\n",
    "        for i in range(0, 5):\n",
    "            if '訂正' in table.find_all('td', text = re.compile('.*決算短信.*'))[i].text\\\n",
    "            or '補足' in table.find_all('td', text = re.compile('.*決算短信.*'))[i].text:\n",
    "                pass\n",
    "            else:\n",
    "                target_pdf = table.find_all('td', text = re.compile('.*決算短信.*'))[i].find('a').get('href')\n",
    "                break\n",
    "\n",
    "        try:\n",
    "            '''\n",
    "            area (list of float, list of list of float, optional) –\n",
    "            Portion of the page to analyze(top,left,bottom,right). Default is entire page.\n",
    "            '''\n",
    "            df_tbls = tabula.read_pdf(target_pdf, pages = 'all', stream=True, silent=True)\n",
    "            get_features_tabula(df_tbls, code_tabula)           \n",
    "        except Exception as e:\n",
    "            error_dict[code_tabula] = e\n",
    "            print('取込エラー')\n",
    "            print(e)\n",
    "            print('\\n')\n",
    "            pass\n",
    "\n",
    "def get_features_tabula(df_tbls, code_tabula):\n",
    "    feature_list = ['流動資産合計', '現金及び預金', '現金預金', '有形固定資産', '有形固定資産合計', '投資有価証券', \n",
    "                '投資その他の資産合計', '流動負債合計', '固定負債合計']\n",
    "    df_elements = []\n",
    "    feature_remove_list = []\n",
    "    count_tables = 0\n",
    "    for df_tbl in df_tbls:\n",
    "        count = 0\n",
    "        for feature in feature_list:\n",
    "            if len(df_tbl[df_tbl.iloc[:,0] == feature]) == 1:\n",
    "                #資産と負債が違うテーブルのため、df_element1の列がずれる場合がある\n",
    "                #特徴量と値だけの1行2列のデータフレームを作成\n",
    "                df_element1 = df_tbl[df_tbl.iloc[:,0] == feature].iloc[:, [0,-1]]\n",
    "                #後のconcatで列がずれないようにするため、値の列の名前が違うため1に統一する\n",
    "                df_element2 = df_element1.rename(columns={df_element1.columns[1]: 1})\n",
    "                df_elements.append(df_element2)\n",
    "                #資産と負債のテーブルが2つある銘柄がある（連結と単独のテーブル）\n",
    "                #同じ特徴量を2回取得することを避けるため、一度入れた特徴量は削除リストに登録\n",
    "                feature_remove_list.append(feature)\n",
    "        #テーブル処理が1つ終わったら、削除リストに登録された特徴量を元のリストから削除する\n",
    "        if len(feature_remove_list) != 0:\n",
    "            for feature_remove in feature_remove_list:\n",
    "                feature_list.remove(feature_remove)\n",
    "            feature_remove_list = []\n",
    "\n",
    "    df_all1 = pd.concat(df_elements).T\n",
    "    df_all2 = pd.DataFrame([list(df_all1.iloc[1,:])], columns=df_all1.iloc[0,:],)  \n",
    "    df_all2['code'] = code_tabula\n",
    "    dfs_concat_tabula(df_all2)\n",
    "    \n",
    "    \n",
    "def dfs_concat_tabula(df_all2):\n",
    "    global df_tabula1\n",
    "    df_tabula1 = pd.concat([df_tabula1, df_all2], axis=0)\n"
   ]
  },
  {
   "cell_type": "code",
   "execution_count": null,
   "metadata": {},
   "outputs": [],
   "source": [
    "#手順3：取り込む銘柄コードと、空データフレームの作成\n",
    "#PDFの表抽出には、camelotとtabulaがある。それぞれ抽出できない銘柄がいくつか存在する。\n",
    "#camelotの方が抽出できる銘柄が多いので、camelotで抽出後、残りをtabulaで抽出する。\n",
    "\n",
    "codes_tabula = pd.read_csv('temp_file/全銘柄PDFデータ（手順1_tabula用銘柄コード）.csv', \n",
    "                           encoding=(\"cp932\"), header=0).iloc[:, 0]\n",
    "df_tabula1 = pd.DataFrame()\n",
    "error_dict = {}"
   ]
  },
  {
   "cell_type": "code",
   "execution_count": null,
   "metadata": {
    "scrolled": true
   },
   "outputs": [],
   "source": [
    "#手順3：tabulaでPDFから特徴量をDataFrameへ記入　※2時間くらいかかる\n",
    "'''\n",
    "・取込エラー\n",
    "    No objects to concatenate　→　データ抽出できないPDFである可能性が高い\n",
    "'''\n",
    "#for i in range(0, len(codes_tabula)):\n",
    "for i in range(0, len(codes_tabula)):\n",
    "    code_tabula = codes_tabula[i]\n",
    "    start_url_tabula = 'http://ke.kabupro.jp/code/{}.htm'.format(code_tabula)\n",
    "    print(start_url_tabula, 'i=', i)\n",
    "    get_pdf_tabula(start_url_tabula, code_tabula)"
   ]
  },
  {
   "cell_type": "code",
   "execution_count": null,
   "metadata": {
    "scrolled": true
   },
   "outputs": [],
   "source": [
    "#手順3：tabulaで取得した表の確認\n",
    "df_tabula1 = df_tabula1.reindex(columns=['code', '流動資産合計', '現金及び預金', '現金預金', '有形固定資産', '有形固定資産合計', \n",
    "                         '投資有価証券', '投資その他の資産合計', '流動負債合計', '固定負債合計', ])\n",
    "df_tabula1"
   ]
  },
  {
   "cell_type": "code",
   "execution_count": null,
   "metadata": {},
   "outputs": [],
   "source": [
    "#手順3：tabulaで取得した表をcsvへ書込み\n",
    "df_tabula1.to_csv('temp_file/全銘柄PDFデータ（手順3_tabula加工前）.csv', mode='w',\n",
    "                  index=False, encoding=\"shift-jis\", errors='none')"
   ]
  },
  {
   "cell_type": "code",
   "execution_count": null,
   "metadata": {},
   "outputs": [],
   "source": [
    "#手順3：tabulaで取得した表をcsvから読み込み、余分な文字を消す\n",
    "df_tabula2 = pd.read_csv('temp_file/全銘柄PDFデータ（手順3_tabula加工前）.csv', encoding=(\"cp932\"), header=0)\n",
    "\n",
    "replace_feature_list = list(df_tabula2.select_dtypes(include=object).columns.values)\n",
    "replace_list = [',', '△', '―', '-', '，', '\\n', ' ',\n",
    "                '※1', '※2', '※3', '※4', '※5', '※6', '※7', '※8', '※9',\n",
    "                '※１', '※２', '※３', '※４', '※５', '※６', '※７', '※８', '※９', '\\D',\n",
    "                'H', 'M', '百万円']\n",
    "for i in replace_feature_list:\n",
    "    for j in replace_list:\n",
    "        df_tabula2[i] = df_tabula2[i].str.replace(j, '')\n",
    "df_tabula2"
   ]
  },
  {
   "cell_type": "code",
   "execution_count": null,
   "metadata": {},
   "outputs": [],
   "source": [
    "#手順3：tabulaで再取得した銘柄のうち、十分に取り込めていない銘柄コードの抽出と削除\n",
    "#tabulaはあまりうまく抽出できないため、削除する銘柄が多い\n",
    "tabula_drop_list = []\n",
    "\n",
    "#削除する銘柄コードの抽出        \n",
    "for i in range(0, len(df_tabula2)):    \n",
    "    if len(df_tabula2.iloc[i, :].value_counts()) <= 3:\n",
    "        tabula_drop_list.append(df_tabula2.iloc[i, 0])\n",
    "        print('code=', df_tabula2.iloc[i, 0], '削除：特徴量が2つ以下')\n",
    "        \n",
    "#削除する銘柄コードの削除\n",
    "for i in tabula_drop_list:\n",
    "    df_tabula2.drop(df_tabula2.index[df_tabula2['code'] == i], inplace=True)\n",
    "df_tabula2"
   ]
  },
  {
   "cell_type": "code",
   "execution_count": null,
   "metadata": {
    "scrolled": true
   },
   "outputs": [],
   "source": [
    "#手順3：tabulaで取得した表（加工・削除後）をcsvへ書込み\n",
    "df_tabula2.to_csv('temp_file/全銘柄PDFデータ（手順3_tabula完成）.csv', mode='w',\n",
    "                      index=False, encoding=\"shift-jis\", errors='none')"
   ]
  },
  {
   "cell_type": "code",
   "execution_count": null,
   "metadata": {
    "scrolled": true
   },
   "outputs": [],
   "source": [
    "#手順4：camelotとcamelot_reとtabulaの読出し\n",
    "df_camelot = pd.read_csv('temp_file/全銘柄PDFデータ（手順1_camelot完成）.csv', \n",
    "                             encoding=(\"cp932\"), header=0)\n",
    "df_camelot_re = pd.read_csv('temp_file/全銘柄PDFデータ（手順2_camelot_re完成）.csv', \n",
    "                             encoding=(\"cp932\"), header=0)\n",
    "df_tabula = pd.read_csv('temp_file/全銘柄PDFデータ（手順3_tabula完成）.csv', \n",
    "                             encoding=(\"cp932\"), header=0)\n",
    "\n",
    "df_tabula\n"
   ]
  },
  {
   "cell_type": "code",
   "execution_count": null,
   "metadata": {
    "scrolled": true
   },
   "outputs": [],
   "source": [
    "#手順4：camelotとcamelot_reとtabulaの結合\n",
    "df_pdf = pd.concat([df_camelot, df_camelot_re, df_tabula], axis=0)\n",
    "df_pdf"
   ]
  },
  {
   "cell_type": "code",
   "execution_count": null,
   "metadata": {
    "scrolled": false
   },
   "outputs": [],
   "source": [
    "#「現金預金」の値を「現金及び預金」に統合\n",
    "for i in range(0, len(df_pdf)):\n",
    "    if math.isnan(df_pdf.iloc[i, 3]) is False:\n",
    "        df_pdf.iloc[i, 2] = df_pdf.iloc[i, 3]\n",
    "del df_pdf['現金預金']\n",
    "\n",
    "df_pdf"
   ]
  },
  {
   "cell_type": "code",
   "execution_count": null,
   "metadata": {},
   "outputs": [],
   "source": [
    "df_pdf.to_csv('全銘柄PDFデータ（完成）.csv', mode='w',\n",
    "                      index=False, encoding=\"shift-jis\", errors='none')"
   ]
  },
  {
   "cell_type": "code",
   "execution_count": null,
   "metadata": {},
   "outputs": [],
   "source": [
    "###【参考】\n",
    "\n",
    "#camelotでPDFから特徴量を「並列処理で」DataFrameへ記入　※通常の80%の時間で取り込むことが出来る\n",
    "import os\n",
    "import concurrent.futures as confu\n",
    "\n",
    "with confu.ThreadPoolExecutor(max_workers=os.cpu_count()) as executor:\n",
    "    for i in range(0, 30):\n",
    "        code = codes[i]\n",
    "        start_url = 'http://ke.kabupro.jp/code/{}.htm'.format(code)\n",
    "        time.sleep(1)\n",
    "        print(start_url, 'i=', i)\n",
    "        executor.submit(get_pdf_camelot, start_url, code, i)"
   ]
  }
 ],
 "metadata": {
  "kernelspec": {
   "display_name": "Python 3",
   "language": "python",
   "name": "python3"
  },
  "language_info": {
   "codemirror_mode": {
    "name": "ipython",
    "version": 3
   },
   "file_extension": ".py",
   "mimetype": "text/x-python",
   "name": "python",
   "nbconvert_exporter": "python",
   "pygments_lexer": "ipython3",
   "version": "3.8.5"
  }
 },
 "nbformat": 4,
 "nbformat_minor": 4
}
