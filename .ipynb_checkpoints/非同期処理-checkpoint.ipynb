{
 "cells": [
  {
   "cell_type": "code",
   "execution_count": 7,
   "metadata": {},
   "outputs": [
    {
     "name": "stdout",
     "output_type": "stream",
     "text": [
      "<coroutine object heavy_process at 0x0000012E0CDD48C0>\n"
     ]
    },
    {
     "name": "stderr",
     "output_type": "stream",
     "text": [
      "<ipython-input-7-a940d111e6ba>:21: RuntimeWarning: coroutine 'heavy_process' was never awaited\n",
      "  print(heavy_process('Hoge', 5))\n",
      "RuntimeWarning: Enable tracemalloc to get the object allocation traceback\n"
     ]
    }
   ],
   "source": [
    "import asyncio\n",
    "import time\n",
    "\n",
    "async def heavy_process(name, sec):\n",
    "  print(f'start {name}')\n",
    "  await asyncio.sleep(sec)\n",
    "  print(f'end {name}')\n",
    "  return f'{name}/{sec}'\n",
    "\n",
    "print(heavy_process('Hoge', 5))\n",
    "\n",
    "\"\"\"\n",
    "start = time.time()\n",
    "loop = asyncio.get_event_loop()\n",
    "result = loop.run_until_complete(\n",
    "  heavy_process('Hoge', 5)\n",
    ")\n",
    "end = time.time()\n",
    "print(result)\n",
    "print(f'Process Time: {end - start}')\n",
    "\"\"\"\n"
   ]
  },
  {
   "cell_type": "code",
   "execution_count": null,
   "metadata": {},
   "outputs": [],
   "source": [
    "import asyncio\n",
    "import time\n",
    "\n",
    "async def heavy_process(name, sec):\n",
    "  print(f'start {name}')\n",
    "  await asyncio.sleep(sec)\n",
    "  print(f'end {name}')\n",
    "  return f'{name}/{sec}'\n",
    "\n",
    "start = time.time()\n",
    "loop = asyncio.get_event_loop()\n",
    "result = loop.run_until_complete(\n",
    "  asyncio.gather(\n",
    "    heavy_process('hoge', 2),\n",
    "    heavy_process('bar', 5),\n",
    "    heavy_process('piyo', 1),\n",
    "    heavy_process('spam', 3)\n",
    "  )\n",
    ")\n",
    "end = time.time()\n",
    "print(result)\n",
    "print(f'Process Time: {end - start}')  "
   ]
  },
  {
   "cell_type": "code",
   "execution_count": null,
   "metadata": {},
   "outputs": [],
   "source": [
    "import asyncio\n",
    "import requests\n",
    "import time\n",
    "\n",
    "async def get_content(url):\n",
    "  print(f'start {url}')\n",
    "  res = requests.request('get', url)\n",
    "  #res = await loop.run_in_executor(None, requests.get, url)\n",
    "  print(f'end {url}')\n",
    "  return res.text[:100]\n",
    "\n",
    "start = time.time()\n",
    "loop = asyncio.get_event_loop()\n",
    "result = loop.run_until_complete(\n",
    "  asyncio.gather(\n",
    "    get_content('https://codezine.jp'),\n",
    "    get_content('https://wings.msn.to'),\n",
    "    get_content('https://www.web-deli.com/')\n",
    "  )\n",
    ")\n",
    "end = time.time()\n",
    "print(result)\n",
    "print(f'Process Time: {end - start}')"
   ]
  },
  {
   "cell_type": "code",
   "execution_count": null,
   "metadata": {},
   "outputs": [],
   "source": [
    "import asyncio\n",
    "import time\n",
    "\n",
    "async def heavy_process(name, sec):\n",
    "  print(f'start {name}')\n",
    "  await asyncio.sleep(sec)\n",
    "  print(f'end {name}')\n",
    "  return f'{name}/{sec}'\n",
    "\n",
    "\"\"\" async def main():\n",
    "   print(await heavy_process('hoge', 2))\n",
    "   print(await heavy_process('bar', 5))\n",
    "   print(await heavy_process('piyo', 1)) \"\"\"\n",
    "  \n",
    "async def main():\n",
    "  t1 = asyncio.create_task(heavy_process('hoge', 2))\n",
    "  t2 = asyncio.create_task(heavy_process('bar', 5))\n",
    "  t3 = asyncio.create_task(heavy_process('piyo', 1))\n",
    "  print(await t1)\n",
    "  print(await t2)\n",
    "  print(await t3)\n",
    "\n",
    "start = time.time()\n",
    "loop = asyncio.get_event_loop()\n",
    "asyncio.run(main())\n",
    "end = time.time()\n",
    "print(f'Process Time: {end - start}') "
   ]
  },
  {
   "cell_type": "code",
   "execution_count": null,
   "metadata": {},
   "outputs": [],
   "source": []
  }
 ],
 "metadata": {
  "kernelspec": {
   "display_name": "Python 3",
   "language": "python",
   "name": "python3"
  },
  "language_info": {
   "codemirror_mode": {
    "name": "ipython",
    "version": 3
   },
   "file_extension": ".py",
   "mimetype": "text/x-python",
   "name": "python",
   "nbconvert_exporter": "python",
   "pygments_lexer": "ipython3",
   "version": "3.8.5"
  }
 },
 "nbformat": 4,
 "nbformat_minor": 4
}
